{
 "cells": [
  {
   "cell_type": "code",
   "execution_count": null,
   "metadata": {},
   "outputs": [],
   "source": [
    "import numpy as np\n",
    "import matplotlib.pyplot as plt\n",
    "from matplotlib.colors import LogNorm\n",
    "%matplotlib inline"
   ]
  },
  {
   "cell_type": "code",
   "execution_count": null,
   "metadata": {},
   "outputs": [],
   "source": [
    "# load saved data (mtt, m1, WC) values from files\n",
    "\n",
    "cG = np.loadtxt(\"cG.txt\", dtype=float)\n",
    "cuG_33 = np.loadtxt(\"cuG_33.txt\", dtype=float)\n",
    "cqd1_3311 = np.loadtxt(\"cqd1_3311.txt\", dtype=float)\n",
    "cqq1_3333 = np.loadtxt(\"cqq1_3333.txt\", dtype=float)\n",
    "cqu1_1133 = np.loadtxt(\"cqu1_1133.txt\", dtype=float)\n",
    "cqu8_1133 = np.loadtxt(\"cqu8_1133.txt\", dtype=float)\n",
    "cqu8_3311 = np.loadtxt(\"cqu8_3311.txt\", dtype=float)\n",
    "cuu_3333 = np.loadtxt(\"cuu_3333.txt\", dtype=float)"
   ]
  },
  {
   "cell_type": "code",
   "execution_count": null,
   "metadata": {},
   "outputs": [],
   "source": [
    "# x and y axes (common to all)\n",
    "\n",
    "mtt = np.unique(cG[:,0])\n",
    "m1 = np.unique(cG[:,1])"
   ]
  },
  {
   "cell_type": "code",
   "execution_count": null,
   "metadata": {},
   "outputs": [],
   "source": [
    "# General plot attributes\n",
    "\n",
    "plt.rcParams['axes.labelpad'] = 16\n",
    "plt.rcParams['xtick.labelsize'] = 22\n",
    "plt.rcParams['ytick.labelsize'] = 22\n",
    "\n",
    "plt.rcParams.update({\n",
    "    \"text.usetex\": True,\n",
    "    \"font.family\": \"sans-serif\",\n",
    "    \"font.sans-serif\": [\"Helvetica\"]})\n",
    "\n",
    "plt.rcParams.update({\"savefig.dpi\" : 300})"
   ]
  },
  {
   "cell_type": "code",
   "execution_count": null,
   "metadata": {},
   "outputs": [],
   "source": [
    "def plot_fn_2d(wc_arr, wc_name, filename):\n",
    "    vals = wc_arr.reshape(len(mtt),len(m1))\n",
    "    fig, ax = plt.subplots(figsize=(8, 6))\n",
    "    img = ax.imshow(vals.T, cmap='RdYlBu', norm=LogNorm(),\n",
    "                    origin='lower', extent=[mtt.min(), mtt.max(), m1.min(), m1.max()])\n",
    "\n",
    "    ax.plot([mtt.min(), mtt.max()], [m1.min(), m1.max()], color='gray', linestyle='--', linewidth=1.5)\n",
    "    x_fill = np.linspace(mtt.min(), mtt.max(), 100)\n",
    "    ax.fill_between(x_fill, x_fill, m1.max(), color='gray', alpha=0.4)\n",
    "\n",
    "    # Colorbar and labels\n",
    "    cbar = fig.colorbar(img, ax=ax)\n",
    "    cbar.set_label(wc_name, fontsize=27)\n",
    "    ax.set_xlabel(r'$m_{\\tilde{t}_R}$ (TeV)', fontsize=27)\n",
    "    ax.set_ylabel(r'$m_1$ (TeV)', fontsize=27)\n",
    "    ax.set_title(r'$g_{1} = 0.1, \\quad g_{s} = 1.1$', fontsize=27, pad=16)\n",
    "    ax.set_xticks([0.5,1.0,1.5,2.0])\n",
    "    ax.set_yticks([0.5,1.0,1.5,2.0])\n",
    "    plt.tight_layout()\n",
    "    #plt.show()\n",
    "    plt.savefig(filename)"
   ]
  },
  {
   "cell_type": "code",
   "execution_count": null,
   "metadata": {},
   "outputs": [],
   "source": [
    "plot_fn_2d(cG[:,2], r'$|c_{G}|$ (TeV${}^{-2}$)', \"cG.pdf\")\n",
    "plot_fn_2d(abs(cuG_33[:,2]), r'$|c_{uG}^{33}|$ (TeV${}^{-2}$)', \"cuG_33.pdf\")\n",
    "plot_fn_2d(abs(cqu1_1133[:,2]), r'$|c_{qu}^{(1),1133}|$ (TeV${}^{-2}$)', \"cqu1_1133.pdf\")\n",
    "plot_fn_2d(abs(cuu_3333[:,2]), r'$|c_{uu}^{3333}|$ (TeV${}^{-2}$)', \"cuu_3333.pdf\")"
   ]
  }
 ],
 "metadata": {
  "kernelspec": {
   "display_name": "nn",
   "language": "python",
   "name": "python3"
  },
  "language_info": {
   "codemirror_mode": {
    "name": "ipython",
    "version": 3
   },
   "file_extension": ".py",
   "mimetype": "text/x-python",
   "name": "python",
   "nbconvert_exporter": "python",
   "pygments_lexer": "ipython3",
   "version": "3.9.19"
  }
 },
 "nbformat": 4,
 "nbformat_minor": 2
}
